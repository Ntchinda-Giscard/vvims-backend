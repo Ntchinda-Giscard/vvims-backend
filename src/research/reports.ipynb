{
 "cells": [
  {
   "cell_type": "code",
   "execution_count": 1,
   "metadata": {},
   "outputs": [],
   "source": [
    "import pandas as pd\n",
    "import matplotlib.pyplot as plt\n",
    "import sqlalchemy"
   ]
  },
  {
   "cell_type": "code",
   "execution_count": 6,
   "metadata": {},
   "outputs": [],
   "source": [
    "from abc import ABC, abstractmethod\n",
    "\n",
    "\n",
    "class ReportGeneratorStrategy(ABC):\n",
    "\n",
    "    @abstractmethod\n",
    "    def generate_report(self, data):\n",
    "\n",
    "        return NotImplemented\n",
    "\n",
    "\n",
    "class AttendanceReportGenerator(ReportGeneratorStrategy):\n",
    "\n",
    "    def __init__(self) -> None:\n",
    "\n",
    "        pass\n",
    "\n",
    "    def generate_report(self, data):\n",
    "\n",
    "        return -1\n",
    "\n",
    "class VisisitReportGenerator(ReportGeneratorStrategy):\n",
    "\n",
    "    def __init__(self) -> None:\n",
    "        pass\n",
    "\n",
    "    def generate_report(self, data):\n",
    "\n",
    "        return -1"
   ]
  },
  {
   "cell_type": "code",
   "execution_count": 7,
   "metadata": {},
   "outputs": [],
   "source": [
    "from dataclasses import dataclass\n",
    "\n",
    "@dataclass\n",
    "class GenerateReportInputs:\n",
    "    repport_type: str\n",
    "    start_date: str\n",
    "    end_date: str\n",
    "@dataclass\n",
    "class ReportStrategy:\n",
    "    visits: ReportGeneratorStrategy = VisisitReportGenerator()\n",
    "    attendance: ReportGeneratorStrategy = AttendanceReportGenerator()"
   ]
  },
  {
   "cell_type": "code",
   "execution_count": null,
   "metadata": {},
   "outputs": [],
   "source": []
  }
 ],
 "metadata": {
  "kernelspec": {
   "display_name": ".venv",
   "language": "python",
   "name": "python3"
  },
  "language_info": {
   "codemirror_mode": {
    "name": "ipython",
    "version": 3
   },
   "file_extension": ".py",
   "mimetype": "text/x-python",
   "name": "python",
   "nbconvert_exporter": "python",
   "pygments_lexer": "ipython3",
   "version": "3.10.4"
  }
 },
 "nbformat": 4,
 "nbformat_minor": 2
}
