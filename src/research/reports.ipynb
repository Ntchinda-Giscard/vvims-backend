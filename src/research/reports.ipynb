{
 "cells": [
  {
   "cell_type": "code",
   "execution_count": 1,
   "metadata": {},
   "outputs": [],
   "source": [
    "import pandas as pd\n",
    "import matplotlib.pyplot as plt\n",
    "import sqlalchemy"
   ]
  },
  {
   "cell_type": "code",
   "execution_count": 1,
   "metadata": {},
   "outputs": [],
   "source": [
    "from abc import ABC, abstractmethod\n",
    "\n",
    "\n",
    "class ReportGeneratorStrategy(ABC):\n",
    "\n",
    "    @abstractmethod\n",
    "    def generate_report(self, data):\n",
    "\n",
    "        return NotImplemented\n",
    "\n",
    "\n",
    "class AttendanceReportGenerator(ReportGeneratorStrategy):\n",
    "\n",
    "    def __init__(self, helps) -> None:\n",
    "        self.helps = helpss\n",
    "\n",
    "    def generate_report(self, data):\n",
    "\n",
    "        print(\"Generating Attendance Report{self.helps}\")\n",
    "\n",
    "class VisisitReportGenerator(ReportGeneratorStrategy):\n",
    "\n",
    "    def __init__(self, helps) -> None:\n",
    "        self.helps = helps\n",
    "\n",
    "    def generate_report(self, data):\n",
    "\n",
    "        print(\"Generating Visit Report{self.helps}\")"
   ]
  },
  {
   "cell_type": "code",
   "execution_count": 2,
   "metadata": {},
   "outputs": [
    {
     "ename": "TypeError",
     "evalue": "VisisitReportGenerator.__init__() missing 1 required positional argument: 'helps'",
     "output_type": "error",
     "traceback": [
      "\u001b[0;31m---------------------------------------------------------------------------\u001b[0m",
      "\u001b[0;31mTypeError\u001b[0m                                 Traceback (most recent call last)",
      "Cell \u001b[0;32mIn[2], line 10\u001b[0m\n\u001b[1;32m      6\u001b[0m     start_date: \u001b[38;5;28mstr\u001b[39m\n\u001b[1;32m      7\u001b[0m     end_date: \u001b[38;5;28mstr\u001b[39m\n\u001b[1;32m      9\u001b[0m \u001b[38;5;129m@dataclass\u001b[39m\n\u001b[0;32m---> 10\u001b[0m \u001b[38;5;28;01mclass\u001b[39;00m\u001b[38;5;250m \u001b[39m\u001b[38;5;21;01mReportStrategy\u001b[39;00m:\n\u001b[1;32m     11\u001b[0m     visits: ReportGeneratorStrategy \u001b[38;5;241m=\u001b[39m VisisitReportGenerator()\n\u001b[1;32m     12\u001b[0m     attendance: ReportGeneratorStrategy \u001b[38;5;241m=\u001b[39m AttendanceReportGenerator()\n",
      "Cell \u001b[0;32mIn[2], line 11\u001b[0m, in \u001b[0;36mReportStrategy\u001b[0;34m()\u001b[0m\n\u001b[1;32m      9\u001b[0m \u001b[38;5;129m@dataclass\u001b[39m\n\u001b[1;32m     10\u001b[0m \u001b[38;5;28;01mclass\u001b[39;00m\u001b[38;5;250m \u001b[39m\u001b[38;5;21;01mReportStrategy\u001b[39;00m:\n\u001b[0;32m---> 11\u001b[0m     visits: ReportGeneratorStrategy \u001b[38;5;241m=\u001b[39m \u001b[43mVisisitReportGenerator\u001b[49m\u001b[43m(\u001b[49m\u001b[43m)\u001b[49m\n\u001b[1;32m     12\u001b[0m     attendance: ReportGeneratorStrategy \u001b[38;5;241m=\u001b[39m AttendanceReportGenerator()\n",
      "\u001b[0;31mTypeError\u001b[0m: VisisitReportGenerator.__init__() missing 1 required positional argument: 'helps'"
     ]
    }
   ],
   "source": [
    "from dataclasses import dataclass\n",
    "\n",
    "@dataclass\n",
    "class GenerateReportInputs:\n",
    "    repport_type: str\n",
    "    start_date: str\n",
    "    end_date: str\n",
    "    \n",
    "@dataclass\n",
    "class ReportStrategy:\n",
    "    visits: ReportGeneratorStrategy = VisisitReportGenerator()\n",
    "    attendance: ReportGeneratorStrategy = AttendanceReportGenerator()"
   ]
  },
  {
   "cell_type": "code",
   "execution_count": null,
   "metadata": {},
   "outputs": [],
   "source": [
    "visits_report = ReportStrategy['visits'](helps='helps')\n",
    "visits_report.generate_report('data')"
   ]
  }
 ],
 "metadata": {
  "kernelspec": {
   "display_name": ".venv",
   "language": "python",
   "name": "python3"
  },
  "language_info": {
   "codemirror_mode": {
    "name": "ipython",
    "version": 3
   },
   "file_extension": ".py",
   "mimetype": "text/x-python",
   "name": "python",
   "nbconvert_exporter": "python",
   "pygments_lexer": "ipython3",
   "version": "3.10.4"
  }
 },
 "nbformat": 4,
 "nbformat_minor": 2
}
